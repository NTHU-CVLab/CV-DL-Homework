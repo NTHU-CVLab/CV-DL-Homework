{
 "cells": [
  {
   "cell_type": "markdown",
   "metadata": {},
   "source": [
    "## Load and normalize MNIST dataset"
   ]
  },
  {
   "cell_type": "code",
   "execution_count": 1,
   "metadata": {
    "collapsed": true
   },
   "outputs": [],
   "source": [
    "%matplotlib inline\n",
    "\n",
    "from __future__ import print_function\n",
    "\n",
    "import torch\n",
    "import torchvision\n",
    "import torchvision.transforms as transforms\n",
    "\n",
    "\n",
    "# Hyper-parameters\n",
    "epochs = 10\n",
    "batch_size = 8\n",
    "lr = 0.01\n",
    "momentum = 0.5\n",
    "\n",
    "# Parameters\n",
    "cuda = False  # default to False --> training and testing on CPU\n",
    "log_step_percentage = 10\n",
    "\n",
    "classes = ('0', '1', '2', '3', '4', '5', '6', '7', '8', '9')\n",
    "mnist_mean = 0.1307\n",
    "mnist_std = 0.3081\n",
    "\n",
    "# Initialize training set and testing set of MNIST\n",
    "transform = transforms.Compose([\n",
    "    transforms.ToTensor(),\n",
    "    transforms.Normalize((mnist_mean,), (mnist_std,))\n",
    "])\n",
    "\n",
    "trainset = torchvision.datasets.MNIST('data', train=True, download=True, transform=transform)\n",
    "testset = torchvision.datasets.MNIST('data', train=False, transform=transform)\n",
    "\n",
    "# Initialize dataloaders for training and testing\n",
    "train_loader = torch.utils.data.DataLoader(trainset, batch_size=batch_size, shuffle=True, num_workers=2)\n",
    "test_loader = torch.utils.data.DataLoader(testset, batch_size=batch_size, shuffle=False, num_workers=2)\n"
   ]
  },
  {
   "cell_type": "markdown",
   "metadata": {},
   "source": [
    "## Show some random training and testing images in MNIST"
   ]
  },
  {
   "cell_type": "code",
   "execution_count": 2,
   "metadata": {},
   "outputs": [
    {
     "name": "stdout",
     "output_type": "stream",
     "text": [
      "Training random samples:\n",
      "    2     4     2     6     3     1     5     2\n",
      "\n",
      "Testing random samples:\n",
      "    7     2     1     0     4     1     4     9\n",
      "\n",
      "<class 'torch.FloatTensor'>\n",
      "torch.Size([8, 1, 28, 28])\n"
     ]
    },
    {
     "data": {
      "image/png": "[encoded data removed]",
      "text/plain": [
       "<matplotlib.figure.Figure at 0x7f74872daa90>"
      ]
     },
     "metadata": {},
     "output_type": "display_data"
    },
    {
     "data": {
      "image/png": "[encoded data removed]",
      "text/plain": [
       "<matplotlib.figure.Figure at 0x7f74872da510>"
      ]
     },
     "metadata": {},
     "output_type": "display_data"
    }
   ],
   "source": [
    "import matplotlib.pyplot as plt\n",
    "import numpy as np\n",
    "\n",
    "\n",
    "# Function to show an image\n",
    "def imshow(img):\n",
    "    img = img * mnist_std +  mnist_mean # unnormalize\n",
    "    npimg = img.numpy()\n",
    "    plt.figure()\n",
    "    plt.imshow(np.transpose(npimg, (1, 2, 0)))\n",
    "\n",
    "\n",
    "# Get some random training images\n",
    "dataiter = iter(train_loader)\n",
    "images, labels = dataiter.next()\n",
    "\n",
    "imshow(torchvision.utils.make_grid(images))  # show images\n",
    "print('Training random samples:')\n",
    "print(' '.join('%5s' % classes[labels[j]] for j in range(batch_size)))  # print labels\n",
    "print()\n",
    "\n",
    "# Get some random testing images\n",
    "dataiter = iter(test_loader)\n",
    "images, labels = dataiter.next()\n",
    "\n",
    "imshow(torchvision.utils.make_grid(images))  # show images\n",
    "print('Testing random samples:')\n",
    "print(' '.join('%5s' % classes[labels[j]] for j in range(batch_size)))  # print labels\n",
    "print()\n",
    "\n",
    "print(type(images))\n",
    "print(images.shape)"
   ]
  },
  {
   "cell_type": "markdown",
   "metadata": {},
   "source": [
    "## Define a Convolutional Neural Network - baseline"
   ]
  },
  {
   "cell_type": "code",
   "execution_count": 3,
   "metadata": {
    "collapsed": true
   },
   "outputs": [],
   "source": [
    "from torch.autograd import Variable\n",
    "import torch.nn as nn\n",
    "import torch.nn.functional as F\n",
    "\n",
    "\n",
    "class BaselineConvNet(nn.Module):\n",
    "    def __init__(self):\n",
    "        super(BaselineConvNet, self).__init__()\n",
    "        self.conv1 = nn.Conv2d(1, 3, kernel_size=3)\n",
    "        self.fc1 = nn.Linear(108, 10)\n",
    "\n",
    "    def forward(self, x):\n",
    "        x = F.relu(F.max_pool2d(self.conv1(x), 4))\n",
    "        x = x.view(-1, 108)\n",
    "        x = self.fc1(x)\n",
    "        return F.log_softmax(x)\n",
    "\n",
    "\n",
    "baseline_conv_net = BaselineConvNet()\n",
    "\n",
    "# Move the model to GPU if cuda set to True\n",
    "if cuda:\n",
    "    baseline_conv_net.cuda()\n",
    "    "
   ]
  },
  {
   "cell_type": "markdown",
   "metadata": {},
   "source": [
    "## Define a Convolutional Neural Network - advance\n",
    "### - You should complete this part!!!"
   ]
  },
  {
   "cell_type": "code",
   "execution_count": null,
   "metadata": {
    "collapsed": true
   },
   "outputs": [],
   "source": [
    "class AdvanceConvNet(nn.Module):\n",
    "    \"\"\"\n",
    "    Please implement this part by yourself\n",
    "    \"\"\"\n",
    "    pass\n",
    "\n",
    "\n",
    "advance_conv_net = AdvanceConvNet()\n",
    "\n",
    "# Move the model to GPU if cuda set to True\n",
    "if cuda:\n",
    "    advance_conv_net.cuda()\n",
    "    "
   ]
  },
  {
   "cell_type": "markdown",
   "metadata": {},
   "source": [
    "## Define a loss function and optimizer"
   ]
  },
  {
   "cell_type": "code",
   "execution_count": 4,
   "metadata": {
    "collapsed": true
   },
   "outputs": [],
   "source": [
    "import torch.optim as optim\n",
    "\n",
    "\n",
    "model = baseline_conv_net  # set the model to baseline_conv_net or the advanced one you implement\n",
    "\n",
    "criterion = nn.CrossEntropyLoss()\n",
    "optimizer = optim.SGD(model.parameters(), lr=lr, momentum=momentum)\n"
   ]
  },
  {
   "cell_type": "markdown",
   "metadata": {},
   "source": [
    "## Train and test the network\n",
    "### - You should complete this part!!!"
   ]
  },
  {
   "cell_type": "code",
   "execution_count": null,
   "metadata": {},
   "outputs": [],
   "source": [
    "log_interval = len(train_loader) / log_step_percentage\n",
    "\n",
    "def train(epoch):\n",
    "    model.train()\n",
    "    for batch_idx, (data, target) in enumerate(train_loader):\n",
    "        if cuda:\n",
    "            data, target = data.cuda(), target.cuda()\n",
    "\n",
    "        data, target = Variable(data), Variable(target)\n",
    "        optimizer.zero_grad()\n",
    "        \n",
    "        \"\"\"\n",
    "        output = model(????)  # please fill in what you should pass into the model to derive the output\n",
    "        loss = F.nll_loss(????, ????)  # please fill in what you should pass into the loss function to compute loss\n",
    "        \"\"\"\n",
    "\n",
    "        loss.backward()\n",
    "        optimizer.step()\n",
    "\n",
    "        if batch_idx % log_interval == 0:\n",
    "            print('Train Epoch: {} [{}/{} ({:.0f}%)]\\tLoss: {:.6f}'.format(epoch,\n",
    "                                                                           batch_idx * len(data),\n",
    "                                                                           len(train_loader.dataset),\n",
    "                                                                           100. * batch_idx / len(train_loader),\n",
    "                                                                           loss.data[0]))\n",
    "\n",
    "def test():\n",
    "    model.eval()\n",
    "    test_loss = 0.\n",
    "    correct = 0.\n",
    "    for data, target in test_loader:\n",
    "        if cuda:\n",
    "            data, target = data.cuda(), target.cuda()\n",
    "            \n",
    "        data, target = Variable(data, volatile=True), Variable(target)\n",
    "        \n",
    "        \"\"\"\n",
    "        output = model(????)  # please fill in what you should pass into the model to derive the output\n",
    "        loss = F.nll_loss(????, ????, size_average=False)  # please fill in what you should pass into the loss function\n",
    "                                                           # to compute loss\n",
    "        test_loss += loss.data[0]  # sum up batch loss\n",
    "        \"\"\"\n",
    "        \n",
    "        pred = output.data.max(1, keepdim=True)[1]  # get the index of the max log-probability\n",
    "        correct += pred.eq(target.data.view_as(pred)).cpu().sum()\n",
    "\n",
    "    test_loss /= len(test_loader.dataset)\n",
    "    print('\\nTest set: Average loss: {:.4f}, Accuracy: {}/{} ({:.2f}%)\\n'.format(test_loss,\n",
    "                                                                                 correct,\n",
    "                                                                                 len(test_loader.dataset),\n",
    "                                                                                 100. * correct / len(test_loader.dataset)))\n",
    "    \n",
    "for epoch in range(1, epochs + 1):\n",
    "    train(epoch)\n",
    "    test()\n",
    "    "
   ]
  },
  {
   "cell_type": "markdown",
   "metadata": {},
   "source": [
    "## Test the network on custom test data\n",
    "### - You should complete this part!!!"
   ]
  },
  {
   "cell_type": "code",
   "execution_count": null,
   "metadata": {},
   "outputs": [],
   "source": [
    "from os import listdir\n",
    "from os.path import isfile, join\n",
    "from PIL import Image\n",
    "\n",
    "\n",
    "custom_test_root = 'data/custom_test'  # the directory where custom test handwritten digit images are stored\n",
    "\n",
    "files = sorted([f for f in listdir(custom_test_root) if isfile(join(custom_test_root, f))])\n",
    "for i, img_name in enumerate(files, 1):\n",
    "    full_img_path = join(custom_test_root, img_name)\n",
    "    with Image.open(full_img_path).convert('L') as img:\n",
    "        img = img.resize((28, 28), Image.BILINEAR)\n",
    "\n",
    "        plt.figure()\n",
    "        plt.imshow(img, cmap='gray')\n",
    "\n",
    "        img_tensor = transform(img)  # use the defined composed transform functions to transform our custom test image\n",
    "        img_tensor.unsqueeze_(0)  # Add batch dimension to the image data\n",
    "\n",
    "        \"\"\"\n",
    "        Implement this part on your own~\n",
    "        \"\"\"\n",
    "\n",
    "        print(img_name, '- prediction -->', pred)\n"
   ]
  }
 ],
 "metadata": {
  "kernelspec": {
   "display_name": "Python 2",
   "language": "python",
   "name": "python2"
  },
  "language_info": {
   "codemirror_mode": {
    "name": "ipython",
    "version": 2
   },
   "file_extension": ".py",
   "mimetype": "text/x-python",
   "name": "python",
   "nbconvert_exporter": "python",
   "pygments_lexer": "ipython2",
   "version": "2.7.13"
  }
 },
 "nbformat": 4,
 "nbformat_minor": 2
}
